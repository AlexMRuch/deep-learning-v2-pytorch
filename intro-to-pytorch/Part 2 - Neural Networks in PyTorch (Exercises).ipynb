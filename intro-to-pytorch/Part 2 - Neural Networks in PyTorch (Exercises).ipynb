{
 "cells": [
  {
   "cell_type": "markdown",
   "metadata": {},
   "source": [
    "# Neural networks with PyTorch\n",
    "\n",
    "Deep learning networks tend to be massive with dozens or hundreds of layers, that's where the term \"deep\" comes from. You can build one of these deep networks using only weight matrices as we did in the previous notebook, but in general it's very cumbersome and difficult to implement. PyTorch has a nice module `nn` that provides a nice way to efficiently build large neural networks."
   ]
  },
  {
   "cell_type": "code",
   "execution_count": 1,
   "metadata": {
    "collapsed": true
   },
   "outputs": [],
   "source": [
    "# Import necessary packages\n",
    "\n",
    "%matplotlib inline\n",
    "%config InlineBackend.figure_format = 'retina'\n",
    "\n",
    "import numpy as np\n",
    "import torch\n",
    "\n",
    "import helper\n",
    "\n",
    "import matplotlib.pyplot as plt"
   ]
  },
  {
   "cell_type": "markdown",
   "metadata": {},
   "source": [
    "\n",
    "Now we're going to build a larger network that can solve a (formerly) difficult problem, identifying text in an image. Here we'll use the MNIST dataset which consists of greyscale handwritten digits. Each image is 28x28 pixels, you can see a sample below\n",
    "\n",
    "<img src='assets/mnist.png'>\n",
    "\n",
    "Our goal is to build a neural network that can take one of these images and predict the digit in the image.\n",
    "\n",
    "First up, we need to get our dataset. This is provided through the `torchvision` package. The code below will download the MNIST dataset, then create training and test datasets for us. Don't worry too much about the details here, you'll learn more about this later."
   ]
  },
  {
   "cell_type": "code",
   "execution_count": 2,
   "metadata": {
    "collapsed": true
   },
   "outputs": [
    {
     "name": "stdout",
     "output_type": "stream",
     "text": [
      "Downloading http://yann.lecun.com/exdb/mnist/train-images-idx3-ubyte.gz\n",
      "Downloading http://yann.lecun.com/exdb/mnist/train-labels-idx1-ubyte.gz\n",
      "Downloading http://yann.lecun.com/exdb/mnist/t10k-images-idx3-ubyte.gz\n",
      "Downloading http://yann.lecun.com/exdb/mnist/t10k-labels-idx1-ubyte.gz\n",
      "Processing...\n",
      "Done!\n"
     ]
    }
   ],
   "source": [
    "### Run this cell\n",
    "\n",
    "from torchvision import datasets, transforms\n",
    "\n",
    "# Define a transform to normalize the data\n",
    "transform = transforms.Compose([transforms.ToTensor(),\n",
    "                              transforms.Normalize((0.5,), (0.5,)),\n",
    "                              ])\n",
    "\n",
    "# Download and load the training data\n",
    "trainset = datasets.MNIST('~/.pytorch/MNIST_data/', download=True, train=True, transform=transform)\n",
    "trainloader = torch.utils.data.DataLoader(trainset, batch_size=64, shuffle=True)"
   ]
  },
  {
   "cell_type": "markdown",
   "metadata": {},
   "source": [
    "We have the training data loaded into `trainloader` and we make that an iterator with `iter(trainloader)`. Later, we'll use this to loop through the dataset for training, like\n",
    "\n",
    "```python\n",
    "for image, label in trainloader:\n",
    "    ## do things with images and labels\n",
    "```\n",
    "\n",
    "You'll notice I created the `trainloader` with a batch size of 64, and `shuffle=True`. The batch size is the number of images we get in one iteration from the data loader and pass through our network, often called a *batch*. And `shuffle=True` tells it to shuffle the dataset every time we start going through the data loader again. But here I'm just grabbing the first batch so we can check out the data. We can see below that `images` is just a tensor with size `(64, 1, 28, 28)`. So, 64 images per batch, 1 color channel, and 28x28 images."
   ]
  },
  {
   "cell_type": "code",
   "execution_count": 3,
   "metadata": {
    "collapsed": true
   },
   "outputs": [
    {
     "name": "stdout",
     "output_type": "stream",
     "text": [
      "<class 'torch.Tensor'>\n",
      "torch.Size([64, 1, 28, 28])\n",
      "torch.Size([64])\n"
     ]
    }
   ],
   "source": [
    "dataiter = iter(trainloader)\n",
    "images, labels = dataiter.next()\n",
    "print(type(images))\n",
    "print(images.shape)\n",
    "print(labels.shape)"
   ]
  },
  {
   "cell_type": "markdown",
   "metadata": {},
   "source": [
    "This is what one of the images looks like. "
   ]
  },
  {
   "cell_type": "code",
   "execution_count": 4,
   "metadata": {
    "collapsed": true
   },
   "outputs": [
    {
     "data": {
      "image/png": "[encoded data removed]",
      "text/plain": [
       "<Figure size 432x288 with 1 Axes>"
      ]
     },
     "metadata": {
      "image/png": {
       "height": 250,
       "width": 253
      },
      "needs_background": "light"
     },
     "output_type": "display_data"
    }
   ],
   "source": [
    "plt.imshow(images[1].numpy().squeeze(), cmap='Greys_r');"
   ]
  },
  {
   "cell_type": "markdown",
   "metadata": {},
   "source": [
    "First, let's try to build a simple network for this dataset using weight matrices and matrix multiplications. Then, we'll see how to do it using PyTorch's `nn` module which provides a much more convenient and powerful method for defining network architectures.\n",
    "\n",
    "The networks you've seen so far are called *fully-connected* or *dense* networks. Each unit in one layer is connected to each unit in the next layer. In fully-connected networks, the input to each layer must be a one-dimensional vector (which can be stacked into a 2D tensor as a batch of multiple examples). However, our images are 28x28 2D tensors, so we need to convert them into 1D vectors. Thinking about sizes, we need to convert the batch of images with shape `(64, 1, 28, 28)` to a have a shape of `(64, 784)`, 784 is 28 times 28. This is typically called *flattening*, we flattened the 2D images into 1D vectors.\n",
    "\n",
    "Previously you built a network with one output unit. Here we need 10 output units, one for each digit. We want our network to predict the digit shown in an image, so what we'll do is calculate probabilities that the image is of any one digit or class. This ends up being a discrete probability distribution over the classes (digits) that tells us the most likely class for the image. That means we need 10 output units for the 10 classes (digits). We'll see how to convert the network output into a probability distribution next.\n",
    "\n",
    "> **Exercise:** Flatten the batch of images `images`. Then build a multi-layer network with 784 input units, 256 hidden units, and 10 output units using random tensors for the weights and biases. For now, use a sigmoid activation for the hidden layer. Leave the output layer without an activation, we'll add one that gives us a probability distribution next."
   ]
  },
  {
   "cell_type": "code",
   "execution_count": 29,
   "metadata": {
    "collapsed": true
   },
   "outputs": [
    {
     "name": "stdout",
     "output_type": "stream",
     "text": [
      "images shape: torch.Size([64, 1, 28, 28])\n",
      "inputs shape: torch.Size([64, 784])\n",
      "h shape:      torch.Size([64, 256])\n",
      "out shape:    torch.Size([64, 10])\n"
     ]
    },
    {
     "data": {
      "text/plain": [
       "tensor([[  4.2957,  32.8269,  -4.6569, -37.9338,  19.6304,  -6.8275,  -4.2041,\n",
       "         -11.3874,  -7.8307,  11.8581],\n",
       "        [ -6.6093,   3.3230,  -0.7947, -30.3153,  14.7243,  -5.5279,   3.9593,\n",
       "         -14.6798,  -5.4337,  16.1413],\n",
       "        [ -5.3155,   0.8589,   4.3763, -28.2211,  17.9248,  -9.7303,  -2.4759,\n",
       "         -10.9693, -10.9275,  11.8960],\n",
       "        [ 12.2745,   6.5663,  -2.3428, -27.5964,  19.5493, -10.3582,   3.7399,\n",
       "         -16.0399,  -8.7976,  17.7660],\n",
       "        [  5.5026,   5.9482,  -2.3155, -30.7647,   6.4235,  -5.4048,   2.6391,\n",
       "         -12.2861,  -8.7060,   8.7525],\n",
       "        [  2.0646,  23.5603,  -2.1399, -33.4615,   0.6745,  -2.4730,  -4.9348,\n",
       "          -9.4384,  -9.8269,   9.4501],\n",
       "        [ -2.3610,  14.2602,   6.1776, -30.9865,   4.7393,  -5.2399,  -0.9853,\n",
       "         -15.8923, -15.8764,  17.2195],\n",
       "        [ -0.0759,   9.6350,   0.9548, -36.3846,  15.2813, -21.1929,   0.8291,\n",
       "          -9.9186, -12.5892,  19.8168],\n",
       "        [-12.1721,  15.0024,  11.9912, -36.5668,  -1.4091, -10.3375,   1.4103,\n",
       "         -15.4899, -12.2652,   7.3874],\n",
       "        [  5.1781,  12.0725,  -2.1195, -33.4680,  13.6665, -13.8124,   3.9107,\n",
       "         -12.7638,  -0.5215,   9.2721],\n",
       "        [-12.1299,   6.0397,   6.8491, -35.2728,  11.8488,  -7.0429,  -2.2240,\n",
       "          -5.1415,  -9.0528,  10.5074],\n",
       "        [-12.9466,   8.0921,   2.0413, -38.8810,  16.3780,  -4.9865,   5.0707,\n",
       "          -8.6841,  -9.6167,  13.5447],\n",
       "        [ -3.8277,   6.0181,   4.4671, -32.1545,   8.1840, -11.1907,   4.4767,\n",
       "         -14.0059,  -4.6578,  16.1993],\n",
       "        [  6.3837,   7.7576,   1.7420, -30.3189,   8.3223,  -9.3863,  -1.8959,\n",
       "          -0.0466,   0.4405,   9.8595],\n",
       "        [  5.1745,  19.5795,  -3.0701, -36.7021,  11.3374,  -6.3708,  -8.9927,\n",
       "         -15.1915,  -3.4553,  16.7050],\n",
       "        [  2.7009,  13.5579,  -3.8404, -34.4204,  12.1232, -10.0097,   3.2814,\n",
       "         -15.2617,  -3.5018,  16.2071],\n",
       "        [ -3.8923,  13.2304,  -0.9802, -29.0651,   6.1785,  -9.8910,   0.2203,\n",
       "         -15.3112,  -0.2853,   3.8121],\n",
       "        [  6.3935,   8.7821,  -4.5513, -42.9442,  11.0550,   0.1682,   8.1194,\n",
       "         -16.7248,  -7.9850,  14.6811],\n",
       "        [  5.5390,  21.4879,  -5.1029, -34.8043,  14.1811,  -6.2587,  -2.0547,\n",
       "         -15.0309,   0.3227,  16.8709],\n",
       "        [ -0.3867,  13.1598,  -0.9387, -28.1202,  14.0451,  -1.7134,   7.7557,\n",
       "         -14.6945,  -9.1178,  12.5204],\n",
       "        [ -4.9965,  12.5830,   3.3725, -31.0575,   7.7027, -24.3861,   4.4474,\n",
       "          -7.4913,  -4.6543,  13.5176],\n",
       "        [  0.7390,  16.9345,   0.0174, -29.3501,  12.5832,  -6.7274,  -2.3950,\n",
       "         -14.0920,  -5.9296,  14.9595],\n",
       "        [  0.2413,  18.4930,  10.1317, -35.4759,  17.8043, -13.0407,  -1.6724,\n",
       "         -19.7986,  -9.0676,  13.8213],\n",
       "        [ -7.0108,  13.8203,   9.0517, -31.7196,  -3.4792, -13.2030,   3.7635,\n",
       "         -15.4837, -11.9623,  14.3494],\n",
       "        [ -6.2624,  17.7652,   4.5753, -24.1649,   7.9109,  -4.0321,   5.1982,\n",
       "          -7.1714,  -8.5283,  11.5329],\n",
       "        [  2.2892,  18.0313,  -6.0333, -38.8617,  18.9680,  -7.2565,  -2.9218,\n",
       "         -16.2183,  -0.4542,  17.7204],\n",
       "        [  8.1849,  26.1831,   0.2989, -33.8775,  17.6193,  -6.5506,   4.6622,\n",
       "          -6.1374,  -1.0039,   7.1996],\n",
       "        [  1.0721,  15.8746,  -0.1206, -27.5974,  16.7737,  -5.0846,   6.1073,\n",
       "          -5.1780,  -1.7510,  10.4787],\n",
       "        [  4.6059,  16.3536,   1.8920, -29.1646,  12.4039,  -5.6347,  -6.0056,\n",
       "          -5.8398,  -1.6689,   4.2330],\n",
       "        [ -0.0958,  14.1886,  -1.6900, -31.9379,  11.2899,  -9.9289,  -0.9235,\n",
       "         -13.2237,  -6.9204,  14.0480],\n",
       "        [  8.2089,   9.6440,   6.5480, -44.6890,  11.9061, -14.8887,   4.5978,\n",
       "         -10.8804, -12.8314,  23.1307],\n",
       "        [  1.4180,   5.4764,   1.3616, -26.5213,  18.7308,  -4.7201,   2.0447,\n",
       "          -7.3145,  -1.9570,  10.6999],\n",
       "        [  8.2201,  20.8380,   8.4025, -40.9207,  11.5300,  -8.6183,   0.9361,\n",
       "          -9.7328,  -4.0092,  17.2177],\n",
       "        [  9.2281,   8.9966,   9.1725, -44.6558,  16.3202, -11.7556,   1.5405,\n",
       "         -25.2032,  -7.5806,   9.4711],\n",
       "        [  4.0546,  21.4872,  -0.4118, -29.1619,  18.2510, -15.9050,   0.5306,\n",
       "         -12.5747, -11.7690,  18.3317],\n",
       "        [  5.1263,  18.2368,  -5.1752, -30.5989,  19.0066,  -7.7841,  -0.4099,\n",
       "         -14.2432,  -0.9740,  14.2172],\n",
       "        [  1.4517,  24.7487,   2.2101, -20.6119,   2.2299,  -2.8547,  -4.7894,\n",
       "         -15.3357, -10.3353,  15.3086],\n",
       "        [-16.3418,  12.1766,  -5.4369, -24.6262,   1.2782,  -5.9484,   1.2850,\n",
       "         -16.2555,  -6.3494,  12.0815],\n",
       "        [  1.8774,   7.5867,   1.5338, -41.4306,  15.6014,  -3.5607,  11.1203,\n",
       "         -16.3814, -12.6353,  15.4280],\n",
       "        [  1.8644,  18.8811,   1.4497, -27.9110,  15.1762,  -9.7380,   0.9509,\n",
       "         -15.3282,  -8.0651,  10.9672],\n",
       "        [  9.3899,   6.7570,  -4.1715, -34.5022,   7.3483, -10.9393,   0.8729,\n",
       "         -19.9011, -12.3652,  17.9229],\n",
       "        [  4.8388,  15.0594,  -8.6149, -37.9477,   8.4701, -10.6683,  -3.1225,\n",
       "         -16.8369,  -8.9509,  15.4728],\n",
       "        [  3.7099,   6.6432,  -2.2998, -32.6169,   7.0133,  -5.9420,   2.8154,\n",
       "          -6.6992,  -8.8630,  24.7065],\n",
       "        [  5.0317,  13.6812,   0.4243, -30.0277,   3.0885,  -7.8199, -11.5393,\n",
       "         -22.4491,  -1.8695,  14.0885],\n",
       "        [  6.5205,  18.2026,  10.2185, -33.3294,  11.9482,  -6.2939,   1.6090,\n",
       "         -10.0614,  -3.7356,  16.9023],\n",
       "        [ -6.5881,   7.4659,  16.6832, -31.6786,  15.1564,  -5.1013,  10.6531,\n",
       "          -4.6427,  -1.1523,  16.7246],\n",
       "        [ -2.6390,  14.8922,  11.7522, -29.4597,   5.1024,   2.4917,  -5.1422,\n",
       "         -17.3800,  -8.6700,  15.5003],\n",
       "        [  6.4543,   6.9662,   0.9470, -38.3706,  15.8771,  -9.3433,  -1.0174,\n",
       "         -17.7131, -11.5864,  15.1809],\n",
       "        [  7.7416,  17.7804,  -3.4254, -29.8095,   7.0490,  -3.6554,  -9.4408,\n",
       "         -19.5624, -10.0886,  17.4728],\n",
       "        [ 13.8554,  10.0194,  11.7957, -32.6833,  17.1105,   0.7764,   7.2141,\n",
       "         -10.4188,   2.5524,  14.0723],\n",
       "        [ -9.5277,  12.4434,   1.6650, -26.0390,  -2.5716,  -4.9835,   4.7990,\n",
       "         -17.3321, -14.7946,  16.7904],\n",
       "        [ -5.3782,   7.5073,   3.0548, -28.1374,  20.1246,  -7.3355,  -5.0913,\n",
       "         -19.6709,  -3.8265,   7.7446],\n",
       "        [  1.2516,  14.5191,  -3.9128, -34.7844,   5.3736, -13.4541,  -7.4322,\n",
       "         -10.4149,  -5.6292,  11.5782],\n",
       "        [  4.6300,  11.3303,  -0.9085, -37.3511,   7.7255, -10.6148,  -6.1830,\n",
       "         -14.0383, -12.9389,  11.7264],\n",
       "        [  4.1625,   1.8852,  -3.3515, -31.2298,  10.1228, -13.4355,  -1.2100,\n",
       "         -16.9823, -16.9975,  17.5903],\n",
       "        [ -8.5279,  13.3548,   9.8999, -26.9264,   5.7817,  -4.0994,  -5.0663,\n",
       "         -13.4893,  -6.6681,  13.6023],\n",
       "        [  4.9599,   9.1038,   5.4543, -34.1274,  13.8260, -12.2953,   3.6679,\n",
       "         -23.3043,  -5.2535,   0.7573],\n",
       "        [  1.9947,  13.4745,   9.3085, -39.9979,  16.1411, -13.8293,  -2.2111,\n",
       "         -13.7073, -16.1683,  14.2911],\n",
       "        [ 10.6495,  16.9582,  -2.6915, -35.0158,   6.2630, -10.8364,  -5.5890,\n",
       "         -14.3722, -13.6523,  17.9326],\n",
       "        [ 12.0054,  23.7384,   2.3563, -37.6816,  14.9100,  -3.5094,   2.6929,\n",
       "         -13.7403,  -4.7334,  22.7123],\n",
       "        [ -2.3374,   4.6064,  -4.2341, -27.1564,  14.2171,  -9.6070,   0.0314,\n",
       "         -18.8558,  -7.9596,  18.9525],\n",
       "        [ -6.6951,  16.7854,   3.0258, -29.8275,   2.3005, -18.0663,  -1.1326,\n",
       "         -13.6050, -18.5456,  17.1024],\n",
       "        [  3.3996,   4.8038,  -3.8435, -29.9874,  14.9264,  -7.6099,   3.6270,\n",
       "         -11.4050,   0.7188,  17.8016],\n",
       "        [ -5.2818,  16.7754,  -4.1534, -42.4975,  10.7058, -14.1308,  -2.4013,\n",
       "         -15.2573, -12.7838,   9.4164]])"
      ]
     },
     "execution_count": 29,
     "metadata": {},
     "output_type": "execute_result"
    }
   ],
   "source": [
    "## Your solution\n",
    "def activation(x):\n",
    "    return 1/(1+torch.exp(-x))\n",
    "\n",
    "# Flatten the input images (-1 == PyTorch calculates number)\n",
    "print(\"images shape:\", images.shape)\n",
    "inputs = images.view(images.shape[0], -1)\n",
    "print(\"inputs shape:\", inputs.shape)\n",
    "\n",
    "# Create parameters\n",
    "w1 = torch.randn(784, 256)\n",
    "b1 = torch.randn(256)\n",
    "w2 = torch.randn(256, 10)\n",
    "b2 = torch.randn(10)\n",
    "\n",
    "# Hidden layer\n",
    "h = activation(torch.mm(inputs, w1) + b1)\n",
    "print(\"h shape:     \", h.shape)\n",
    "\n",
    "# Output\n",
    "out = torch.mm(h, w2) + b2\n",
    "print(\"out shape:   \", out.shape) # output of your network, should have shape (64,10)\n",
    "out"
   ]
  },
  {
   "cell_type": "markdown",
   "metadata": {},
   "source": [
    "Now we have 10 outputs for our network. We want to pass in an image to our network and get out a probability distribution over the classes that tells us the likely class(es) the image belongs to. Something that looks like this:\n",
    "<img src='assets/image_distribution.png' width=500px>\n",
    "\n",
    "Here we see that the probability for each class is roughly the same. This is representing an untrained network, it hasn't seen any data yet so it just returns a uniform distribution with equal probabilities for each class.\n",
    "\n",
    "To calculate this probability distribution, we often use the [**softmax** function](https://en.wikipedia.org/wiki/Softmax_function). Mathematically this looks like\n",
    "\n",
    "$$\n",
    "\\Large \\sigma(x_i) = \\cfrac{e^{x_i}}{\\sum_k^K{e^{x_k}}}\n",
    "$$\n",
    "\n",
    "What this does is squish each input $x_i$ between 0 and 1 and normalizes the values to give you a proper probability distribution where the probabilites sum up to one.\n",
    "\n",
    "> **Exercise:** Implement a function `softmax` that performs the softmax calculation and returns probability distributions for each example in the batch. Note that you'll need to pay attention to the shapes when doing this. If you have a tensor `a` with shape `(64, 10)` and a tensor `b` with shape `(64,)`, doing `a/b` will give you an error because PyTorch will try to do the division across the columns (called broadcasting) but you'll get a size mismatch. The way to think about this is for each of the 64 examples, you only want to divide by one value, the sum in the denominator. So you need `b` to have a shape of `(64, 1)`. This way PyTorch will divide the 10 values in each row of `a` by the one value in each row of `b`. Pay attention to how you take the sum as well. You'll need to define the `dim` keyword in `torch.sum`. Setting `dim=0` takes the sum across the rows while `dim=1` takes the sum across the columns."
   ]
  },
  {
   "cell_type": "code",
   "execution_count": 19,
   "metadata": {
    "collapsed": true
   },
   "outputs": [
    {
     "name": "stdout",
     "output_type": "stream",
     "text": [
      "probabilities shape: torch.Size([64, 10])\n",
      "probabilities:\n",
      "tensor([1.0000, 1.0000, 1.0000, 1.0000, 1.0000, 1.0000, 1.0000, 1.0000, 1.0000,\n",
      "        1.0000, 1.0000, 1.0000, 1.0000, 1.0000, 1.0000, 1.0000, 1.0000, 1.0000,\n",
      "        1.0000, 1.0000, 1.0000, 1.0000, 1.0000, 1.0000, 1.0000, 1.0000, 1.0000,\n",
      "        1.0000, 1.0000, 1.0000, 1.0000, 1.0000, 1.0000, 1.0000, 1.0000, 1.0000,\n",
      "        1.0000, 1.0000, 1.0000, 1.0000, 1.0000, 1.0000, 1.0000, 1.0000, 1.0000,\n",
      "        1.0000, 1.0000, 1.0000, 1.0000, 1.0000, 1.0000, 1.0000, 1.0000, 1.0000,\n",
      "        1.0000, 1.0000, 1.0000, 1.0000, 1.0000, 1.0000, 1.0000, 1.0000, 1.0000,\n",
      "        1.0000])\n"
     ]
    }
   ],
   "source": [
    "def softmax(x):\n",
    "    return torch.exp(x)/torch.sum(torch.exp(x), dim=1).view(-1, 1)\n",
    "\n",
    "# Here, out should be the output of the network in the previous excercise with shape (64,10)\n",
    "probabilities = softmax(out)\n",
    "\n",
    "# Does it have the right shape? Should be (64, 10)\n",
    "print(\"probabilities shape:\", probabilities.shape)\n",
    "# Does it sum to 1?\n",
    "print(\"probabilities:\")\n",
    "print(probabilities.sum(dim=1))"
   ]
  },
  {
   "cell_type": "markdown",
   "metadata": {},
   "source": [
    "## Building networks with PyTorch\n",
    "\n",
    "PyTorch provides a module `nn` that makes building networks much simpler. Here I'll show you how to build the same one as above with 784 inputs, 256 hidden units, 10 output units and a softmax output."
   ]
  },
  {
   "cell_type": "code",
   "execution_count": 30,
   "metadata": {
    "collapsed": true
   },
   "outputs": [],
   "source": [
    "from torch import nn"
   ]
  },
  {
   "cell_type": "code",
   "execution_count": 31,
   "metadata": {
    "collapsed": true
   },
   "outputs": [],
   "source": [
    "class Network(nn.Module):\n",
    "    def __init__(self):\n",
    "        super().__init__()\n",
    "        \n",
    "        # Inputs to hidden layer linear transformation\n",
    "        self.hidden = nn.Linear(784, 256)\n",
    "        # Output layer, 10 units - one for each digit\n",
    "        self.output = nn.Linear(256, 10)\n",
    "        \n",
    "        # Define sigmoid activation and softmax output \n",
    "        self.sigmoid = nn.Sigmoid()\n",
    "        self.softmax = nn.Softmax(dim=1)\n",
    "        \n",
    "    def forward(self, x):\n",
    "        # Pass the input tensor through each of our operations\n",
    "        x = self.hidden(x)\n",
    "        x = self.sigmoid(x)\n",
    "        x = self.output(x)\n",
    "        x = self.softmax(x)\n",
    "        \n",
    "        return x"
   ]
  },
  {
   "cell_type": "markdown",
   "metadata": {},
   "source": [
    "Let's go through this bit by bit.\n",
    "\n",
    "```python\n",
    "class Network(nn.Module):\n",
    "```\n",
    "\n",
    "Here we're inheriting from `nn.Module`. Combined with `super().__init__()` this creates a class that tracks the architecture and provides a lot of useful methods and attributes. It is mandatory to inherit from `nn.Module` when you're creating a class for your network. The name of the class itself can be anything.\n",
    "\n",
    "```python\n",
    "self.hidden = nn.Linear(784, 256)\n",
    "```\n",
    "\n",
    "This line creates a module for a linear transformation, $x\\mathbf{W} + b$, with 784 inputs and 256 outputs and assigns it to `self.hidden`. The module automatically creates the weight and bias tensors which we'll use in the `forward` method. You can access the weight and bias tensors once the network (`net`) is created with `net.hidden.weight` and `net.hidden.bias`.\n",
    "\n",
    "```python\n",
    "self.output = nn.Linear(256, 10)\n",
    "```\n",
    "\n",
    "Similarly, this creates another linear transformation with 256 inputs and 10 outputs.\n",
    "\n",
    "```python\n",
    "self.sigmoid = nn.Sigmoid()\n",
    "self.softmax = nn.Softmax(dim=1)\n",
    "```\n",
    "\n",
    "Here I defined operations for the sigmoid activation and softmax output. Setting `dim=1` in `nn.Softmax(dim=1)` calculates softmax across the columns.\n",
    "\n",
    "```python\n",
    "def forward(self, x):\n",
    "```\n",
    "\n",
    "PyTorch networks created with `nn.Module` must have a `forward` method defined. It takes in a tensor `x` and passes it through the operations you defined in the `__init__` method.\n",
    "\n",
    "```python\n",
    "x = self.hidden(x)\n",
    "x = self.sigmoid(x)\n",
    "x = self.output(x)\n",
    "x = self.softmax(x)\n",
    "```\n",
    "\n",
    "Here the input tensor `x` is passed through each operation and reassigned to `x`. We can see that the input tensor goes through the hidden layer, then a sigmoid function, then the output layer, and finally the softmax function. It doesn't matter what you name the variables here, as long as the inputs and outputs of the operations match the network architecture you want to build. The order in which you define things in the `__init__` method doesn't matter, but you'll need to sequence the operations correctly in the `forward` method.\n",
    "\n",
    "Now we can create a `Network` object."
   ]
  },
  {
   "cell_type": "code",
   "execution_count": 32,
   "metadata": {
    "collapsed": true
   },
   "outputs": [
    {
     "data": {
      "text/plain": [
       "Network(\n",
       "  (hidden): Linear(in_features=784, out_features=256, bias=True)\n",
       "  (output): Linear(in_features=256, out_features=10, bias=True)\n",
       "  (sigmoid): Sigmoid()\n",
       "  (softmax): Softmax()\n",
       ")"
      ]
     },
     "execution_count": 32,
     "metadata": {},
     "output_type": "execute_result"
    }
   ],
   "source": [
    "# Create the network and look at it's text representation\n",
    "model = Network()\n",
    "model"
   ]
  },
  {
   "cell_type": "markdown",
   "metadata": {},
   "source": [
    "You can define the network somewhat more concisely and clearly using the `torch.nn.functional` module. This is the most common way you'll see networks defined as many operations are simple element-wise functions. We normally import this module as `F`, `import torch.nn.functional as F`."
   ]
  },
  {
   "cell_type": "code",
   "execution_count": 33,
   "metadata": {
    "collapsed": true
   },
   "outputs": [],
   "source": [
    "import torch.nn.functional as F\n",
    "\n",
    "class Network(nn.Module):\n",
    "    def __init__(self):\n",
    "        super().__init__()\n",
    "        # Inputs to hidden layer linear transformation\n",
    "        self.hidden = nn.Linear(784, 256)\n",
    "        # Output layer, 10 units - one for each digit\n",
    "        self.output = nn.Linear(256, 10)\n",
    "        \n",
    "    def forward(self, x):\n",
    "        # Hidden layer with sigmoid activation\n",
    "        x = F.sigmoid(self.hidden(x))\n",
    "        # Output layer with softmax activation\n",
    "        x = F.softmax(self.output(x), dim=1)\n",
    "        \n",
    "        return x"
   ]
  },
  {
   "cell_type": "markdown",
   "metadata": {},
   "source": [
    "### Activation functions\n",
    "\n",
    "So far we've only been looking at the softmax activation, but in general any function can be used as an activation function. The only requirement is that for a network to approximate a non-linear function, the activation functions must be non-linear. Here are a few more examples of common activation functions: Tanh (hyperbolic tangent), and ReLU (rectified linear unit).\n",
    "\n",
    "<img src=\"assets/activation.png\" width=700px>\n",
    "\n",
    "In practice, the ReLU function is used almost exclusively as the activation function for hidden layers."
   ]
  },
  {
   "cell_type": "markdown",
   "metadata": {},
   "source": [
    "### Your Turn to Build a Network\n",
    "\n",
    "<img src=\"assets/mlp_mnist.png\" width=600px>\n",
    "\n",
    "> **Exercise:** Create a network with 784 input units, a hidden layer with 128 units and a ReLU activation, then a hidden layer with 64 units and a ReLU activation, and finally an output layer with a softmax activation as shown above. You can use a ReLU activation with the `nn.ReLU` module or `F.relu` function.\n",
    "\n",
    "It's good practice to name your layers by their type of network, for instance 'fc' to represent a fully-connected layer. As you code your solution, use `fc1`, `fc2`, and `fc3` as your layer names."
   ]
  },
  {
   "cell_type": "code",
   "execution_count": 35,
   "metadata": {
    "collapsed": true,
    "scrolled": true
   },
   "outputs": [
    {
     "data": {
      "text/plain": [
       "Network(\n",
       "  (fc1): Linear(in_features=784, out_features=128, bias=True)\n",
       "  (fc2): Linear(in_features=128, out_features=64, bias=True)\n",
       "  (fc3): Linear(in_features=64, out_features=10, bias=True)\n",
       ")"
      ]
     },
     "execution_count": 35,
     "metadata": {},
     "output_type": "execute_result"
    }
   ],
   "source": [
    "## Your solution here\n",
    "class Network(nn.Module):\n",
    "    def __init__(self):\n",
    "        super().__init__()\n",
    "        # Defining the layers, 128, 64, 10 units each\n",
    "        self.fc1 = nn.Linear(784, 128)\n",
    "        self.fc2 = nn.Linear(128, 64)\n",
    "        # Output layer, 10 units - one for each digit\n",
    "        self.fc3 = nn.Linear(64, 10)\n",
    "        \n",
    "    def forward(self, x):\n",
    "        ''' Forward pass through the network, returns the output logits '''\n",
    "        x = self.fc1(x)\n",
    "        x = F.relu(x)\n",
    "        x = self.fc2(x)\n",
    "        x = F.relu(x)\n",
    "        x = self.fc3(x)\n",
    "        x = F.softmax(x, dim=1)\n",
    "        \n",
    "        return x\n",
    "\n",
    "model = Network()\n",
    "model"
   ]
  },
  {
   "cell_type": "markdown",
   "metadata": {},
   "source": [
    "### Initializing weights and biases\n",
    "\n",
    "The weights and such are automatically initialized for you, but it's possible to customize how they are initialized. The weights and biases are tensors attached to the layer you defined, you can get them with `model.fc1.weight` for instance."
   ]
  },
  {
   "cell_type": "code",
   "execution_count": 36,
   "metadata": {
    "collapsed": true
   },
   "outputs": [
    {
     "name": "stdout",
     "output_type": "stream",
     "text": [
      "Parameter containing:\n",
      "tensor([[-0.0202,  0.0178, -0.0012,  ...,  0.0281,  0.0318,  0.0126],\n",
      "        [-0.0084, -0.0046,  0.0017,  ...,  0.0255, -0.0302,  0.0269],\n",
      "        [ 0.0310,  0.0008,  0.0099,  ...,  0.0350, -0.0163,  0.0314],\n",
      "        ...,\n",
      "        [ 0.0045, -0.0118,  0.0274,  ..., -0.0182,  0.0191,  0.0200],\n",
      "        [-0.0342,  0.0027, -0.0020,  ...,  0.0128, -0.0308, -0.0123],\n",
      "        [-0.0286, -0.0219, -0.0100,  ...,  0.0046, -0.0346, -0.0098]],\n",
      "       requires_grad=True)\n",
      "Parameter containing:\n",
      "tensor([ 0.0227,  0.0218,  0.0216, -0.0129,  0.0034,  0.0149,  0.0326, -0.0233,\n",
      "        -0.0241, -0.0289, -0.0311,  0.0091, -0.0348, -0.0289,  0.0280,  0.0035,\n",
      "         0.0166, -0.0273, -0.0107,  0.0351,  0.0352,  0.0056,  0.0304,  0.0124,\n",
      "        -0.0035,  0.0103,  0.0147, -0.0180,  0.0141, -0.0044, -0.0102,  0.0052,\n",
      "        -0.0287,  0.0152, -0.0216, -0.0260, -0.0063,  0.0319,  0.0003, -0.0025,\n",
      "        -0.0036, -0.0051,  0.0303, -0.0168, -0.0304, -0.0012,  0.0231, -0.0077,\n",
      "        -0.0045, -0.0320,  0.0095, -0.0242,  0.0102,  0.0078,  0.0211, -0.0306,\n",
      "         0.0072, -0.0000,  0.0036, -0.0100,  0.0092,  0.0025,  0.0041,  0.0006,\n",
      "        -0.0054,  0.0314,  0.0233,  0.0119,  0.0304,  0.0077,  0.0026, -0.0242,\n",
      "         0.0050,  0.0118, -0.0301, -0.0106,  0.0082,  0.0226, -0.0246, -0.0001,\n",
      "         0.0114,  0.0232,  0.0165,  0.0248,  0.0017,  0.0098, -0.0121,  0.0162,\n",
      "        -0.0053,  0.0197,  0.0097, -0.0155, -0.0284,  0.0334,  0.0217, -0.0269,\n",
      "         0.0323,  0.0291, -0.0304, -0.0314, -0.0189, -0.0305, -0.0353,  0.0313,\n",
      "        -0.0187,  0.0336, -0.0145, -0.0243, -0.0161,  0.0341,  0.0191, -0.0210,\n",
      "        -0.0093,  0.0106, -0.0143, -0.0186, -0.0063,  0.0081,  0.0279,  0.0284,\n",
      "        -0.0059,  0.0097,  0.0255,  0.0154,  0.0143,  0.0224, -0.0111,  0.0278],\n",
      "       requires_grad=True)\n"
     ]
    }
   ],
   "source": [
    "print(model.fc1.weight)\n",
    "print(model.fc1.bias)"
   ]
  },
  {
   "cell_type": "markdown",
   "metadata": {},
   "source": [
    "For custom initialization, we want to modify these tensors in place. These are actually autograd *Variables*, so we need to get back the actual tensors with `model.fc1.weight.data`. Once we have the tensors, we can fill them with zeros (for biases) or random normal values."
   ]
  },
  {
   "cell_type": "code",
   "execution_count": 37,
   "metadata": {
    "collapsed": true
   },
   "outputs": [
    {
     "data": {
      "text/plain": [
       "tensor([0., 0., 0., 0., 0., 0., 0., 0., 0., 0., 0., 0., 0., 0., 0., 0., 0., 0.,\n",
       "        0., 0., 0., 0., 0., 0., 0., 0., 0., 0., 0., 0., 0., 0., 0., 0., 0., 0.,\n",
       "        0., 0., 0., 0., 0., 0., 0., 0., 0., 0., 0., 0., 0., 0., 0., 0., 0., 0.,\n",
       "        0., 0., 0., 0., 0., 0., 0., 0., 0., 0., 0., 0., 0., 0., 0., 0., 0., 0.,\n",
       "        0., 0., 0., 0., 0., 0., 0., 0., 0., 0., 0., 0., 0., 0., 0., 0., 0., 0.,\n",
       "        0., 0., 0., 0., 0., 0., 0., 0., 0., 0., 0., 0., 0., 0., 0., 0., 0., 0.,\n",
       "        0., 0., 0., 0., 0., 0., 0., 0., 0., 0., 0., 0., 0., 0., 0., 0., 0., 0.,\n",
       "        0., 0.])"
      ]
     },
     "execution_count": 37,
     "metadata": {},
     "output_type": "execute_result"
    }
   ],
   "source": [
    "# Set biases to all zeros\n",
    "model.fc1.bias.data.fill_(0)"
   ]
  },
  {
   "cell_type": "code",
   "execution_count": 38,
   "metadata": {
    "collapsed": true
   },
   "outputs": [
    {
     "data": {
      "text/plain": [
       "tensor([[-0.0029, -0.0220,  0.0090,  ..., -0.0031,  0.0096,  0.0102],\n",
       "        [-0.0086, -0.0060, -0.0079,  ...,  0.0020,  0.0029,  0.0020],\n",
       "        [ 0.0123,  0.0086, -0.0158,  ...,  0.0032,  0.0048,  0.0030],\n",
       "        ...,\n",
       "        [ 0.0012,  0.0135, -0.0130,  ..., -0.0007,  0.0070, -0.0039],\n",
       "        [-0.0040,  0.0098, -0.0039,  ...,  0.0057, -0.0057, -0.0068],\n",
       "        [ 0.0134,  0.0089, -0.0026,  ..., -0.0049,  0.0124, -0.0048]])"
      ]
     },
     "execution_count": 38,
     "metadata": {},
     "output_type": "execute_result"
    }
   ],
   "source": [
    "# sample from random normal with standard dev = 0.01\n",
    "model.fc1.weight.data.normal_(std=0.01)"
   ]
  },
  {
   "cell_type": "markdown",
   "metadata": {},
   "source": [
    "### Forward pass\n",
    "\n",
    "Now that we have a network, let's see what happens when we pass in an image."
   ]
  },
  {
   "cell_type": "code",
   "execution_count": 39,
   "metadata": {
    "collapsed": true
   },
   "outputs": [
    {
     "data": {
      "image/png": "[encoded data removed]",
      "text/plain": [
       "<Figure size 432x648 with 2 Axes>"
      ]
     },
     "metadata": {
      "image/png": {
       "height": 226,
       "width": 423
      },
      "needs_background": "light"
     },
     "output_type": "display_data"
    }
   ],
   "source": [
    "# Grab some data \n",
    "dataiter = iter(trainloader)\n",
    "images, labels = dataiter.next()\n",
    "\n",
    "# Resize images into a 1D vector, new shape is (batch size, color channels, image pixels) \n",
    "images.resize_(64, 1, 784)\n",
    "# or images.resize_(images.shape[0], 1, 784) to automatically get batch size\n",
    "\n",
    "# Forward pass through the network\n",
    "img_idx = 0\n",
    "ps = model.forward(images[img_idx,:])\n",
    "\n",
    "img = images[img_idx]\n",
    "helper.view_classify(img.view(1, 28, 28), ps)"
   ]
  },
  {
   "cell_type": "markdown",
   "metadata": {},
   "source": [
    "As you can see above, our network has basically no idea what this digit is. It's because we haven't trained it yet, all the weights are random!\n",
    "\n",
    "### Using `nn.Sequential`\n",
    "\n",
    "PyTorch provides a convenient way to build networks like this where a tensor is passed sequentially through operations, `nn.Sequential` ([documentation](https://pytorch.org/docs/master/nn.html#torch.nn.Sequential)). Using this to build the equivalent network:"
   ]
  },
  {
   "cell_type": "code",
   "execution_count": 40,
   "metadata": {
    "collapsed": true
   },
   "outputs": [
    {
     "name": "stdout",
     "output_type": "stream",
     "text": [
      "Sequential(\n",
      "  (0): Linear(in_features=784, out_features=128, bias=True)\n",
      "  (1): ReLU()\n",
      "  (2): Linear(in_features=128, out_features=64, bias=True)\n",
      "  (3): ReLU()\n",
      "  (4): Linear(in_features=64, out_features=10, bias=True)\n",
      "  (5): Softmax()\n",
      ")\n"
     ]
    },
    {
     "data": {
      "image/png": "[encoded data removed]",
      "text/plain": [
       "<Figure size 432x648 with 2 Axes>"
      ]
     },
     "metadata": {
      "image/png": {
       "height": 226,
       "width": 423
      },
      "needs_background": "light"
     },
     "output_type": "display_data"
    }
   ],
   "source": [
    "# Hyperparameters for our network\n",
    "input_size = 784\n",
    "hidden_sizes = [128, 64]\n",
    "output_size = 10\n",
    "\n",
    "# Build a feed-forward network\n",
    "model = nn.Sequential(nn.Linear(input_size, hidden_sizes[0]),\n",
    "                      nn.ReLU(),\n",
    "                      nn.Linear(hidden_sizes[0], hidden_sizes[1]),\n",
    "                      nn.ReLU(),\n",
    "                      nn.Linear(hidden_sizes[1], output_size),\n",
    "                      nn.Softmax(dim=1))\n",
    "print(model)\n",
    "\n",
    "# Forward pass through the network and display output\n",
    "images, labels = next(iter(trainloader))\n",
    "images.resize_(images.shape[0], 1, 784)\n",
    "ps = model.forward(images[0,:])\n",
    "helper.view_classify(images[0].view(1, 28, 28), ps)"
   ]
  },
  {
   "cell_type": "markdown",
   "metadata": {},
   "source": [
    "Here our model is the same as before: 784 input units, a hidden layer with 128 units, ReLU activation, 64 unit hidden layer, another ReLU, then the output layer with 10 units, and the softmax output.\n",
    "\n",
    "The operations are available by passing in the appropriate index. For example, if you want to get first Linear operation and look at the weights, you'd use `model[0]`."
   ]
  },
  {
   "cell_type": "code",
   "execution_count": 41,
   "metadata": {
    "collapsed": true
   },
   "outputs": [
    {
     "name": "stdout",
     "output_type": "stream",
     "text": [
      "Linear(in_features=784, out_features=128, bias=True)\n"
     ]
    },
    {
     "data": {
      "text/plain": [
       "Parameter containing:\n",
       "tensor([[-0.0240, -0.0077, -0.0118,  ...,  0.0021,  0.0322, -0.0218],\n",
       "        [ 0.0037, -0.0042,  0.0138,  ..., -0.0139,  0.0108, -0.0145],\n",
       "        [ 0.0007, -0.0308, -0.0079,  ...,  0.0109,  0.0093, -0.0005],\n",
       "        ...,\n",
       "        [ 0.0282, -0.0312,  0.0008,  ..., -0.0029,  0.0132,  0.0138],\n",
       "        [-0.0050,  0.0268, -0.0062,  ...,  0.0016,  0.0335,  0.0291],\n",
       "        [-0.0325, -0.0273, -0.0210,  ..., -0.0028, -0.0137,  0.0294]],\n",
       "       requires_grad=True)"
      ]
     },
     "execution_count": 41,
     "metadata": {},
     "output_type": "execute_result"
    }
   ],
   "source": [
    "print(model[0])\n",
    "model[0].weight"
   ]
  },
  {
   "cell_type": "markdown",
   "metadata": {},
   "source": [
    "You can also pass in an `OrderedDict` to name the individual layers and operations, instead of using incremental integers. Note that dictionary keys must be unique, so _each operation must have a different name_."
   ]
  },
  {
   "cell_type": "code",
   "execution_count": 42,
   "metadata": {
    "collapsed": true
   },
   "outputs": [
    {
     "data": {
      "text/plain": [
       "Sequential(\n",
       "  (fc1): Linear(in_features=784, out_features=128, bias=True)\n",
       "  (relu1): ReLU()\n",
       "  (fc2): Linear(in_features=128, out_features=64, bias=True)\n",
       "  (relu2): ReLU()\n",
       "  (output): Linear(in_features=64, out_features=10, bias=True)\n",
       "  (softmax): Softmax()\n",
       ")"
      ]
     },
     "execution_count": 42,
     "metadata": {},
     "output_type": "execute_result"
    }
   ],
   "source": [
    "from collections import OrderedDict\n",
    "model = nn.Sequential(OrderedDict([\n",
    "                      ('fc1', nn.Linear(input_size, hidden_sizes[0])),\n",
    "                      ('relu1', nn.ReLU()),\n",
    "                      ('fc2', nn.Linear(hidden_sizes[0], hidden_sizes[1])),\n",
    "                      ('relu2', nn.ReLU()),\n",
    "                      ('output', nn.Linear(hidden_sizes[1], output_size)),\n",
    "                      ('softmax', nn.Softmax(dim=1))]))\n",
    "model"
   ]
  },
  {
   "cell_type": "markdown",
   "metadata": {},
   "source": [
    "Now you can access layers either by integer or the name"
   ]
  },
  {
   "cell_type": "code",
   "execution_count": 43,
   "metadata": {
    "collapsed": true
   },
   "outputs": [
    {
     "name": "stdout",
     "output_type": "stream",
     "text": [
      "Linear(in_features=784, out_features=128, bias=True)\n",
      "Linear(in_features=784, out_features=128, bias=True)\n"
     ]
    }
   ],
   "source": [
    "print(model[0])\n",
    "print(model.fc1)"
   ]
  },
  {
   "cell_type": "markdown",
   "metadata": {},
   "source": [
    "In the next notebook, we'll see how we can train a neural network to accuractly predict the numbers appearing in the MNIST images."
   ]
  },
  {
   "cell_type": "code",
   "execution_count": null,
   "metadata": {},
   "outputs": [],
   "source": []
  }
 ],
 "metadata": {
  "kernelspec": {
   "display_name": "Python [conda env:pytorch]",
   "language": "python",
   "name": "conda-env-pytorch-py"
  },
  "language_info": {
   "codemirror_mode": {
    "name": "ipython",
    "version": 3
   },
   "file_extension": ".py",
   "mimetype": "text/x-python",
   "name": "python",
   "nbconvert_exporter": "python",
   "pygments_lexer": "ipython3",
   "version": "3.6.6"
  }
 },
 "nbformat": 4,
 "nbformat_minor": 2
}
